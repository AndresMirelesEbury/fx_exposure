{
 "cells": [
  {
   "cell_type": "code",
   "execution_count": 1,
   "metadata": {},
   "outputs": [],
   "source": [
    "import numpy as np\n",
    "import matplotlib.pyplot as plt\n",
    "import pandas as pd\n",
    "from bq_link import get_bq_link\n",
    "import os\n",
    "from configparser import ConfigParser\n",
    "import upload"
   ]
  },
  {
   "cell_type": "code",
   "execution_count": 2,
   "metadata": {},
   "outputs": [],
   "source": [
    "def get_config():\n",
    "    config = ConfigParser()\n",
    "    config.read(os.path.join(\"C:/Users/andres.mireles_ebury/Desktop/Projects/FX Exposure/fx_exposure/config.ini\"))\n",
    "\n",
    "    return config\n"
   ]
  },
  {
   "cell_type": "code",
   "execution_count": 3,
   "metadata": {},
   "outputs": [],
   "source": [
    "config = get_config()\n",
    "bq_client, _ = get_bq_link(config)"
   ]
  },
  {
   "cell_type": "code",
   "execution_count": 4,
   "metadata": {},
   "outputs": [],
   "source": [
    "url = \"https://docs.google.com/spreadsheets/d/11eRqnaQC_Mmr9zL73B6kD9oCQdNI4LVuyDEuAfBUt8Q/edit#gid=2039940707\""
   ]
  },
  {
   "cell_type": "code",
   "execution_count": 5,
   "metadata": {},
   "outputs": [],
   "source": [
    "from gspread_pandas import Spread, conf\n",
    "\n",
    "# below_the_line = Spread(url, creds=bq_client.credentials).sheet_to_df().reset_index()\n",
    "below_the_line = Spread(url, creds=bq_client.credentials)"
   ]
  },
  {
   "cell_type": "code",
   "execution_count": 6,
   "metadata": {},
   "outputs": [],
   "source": [
    "sheets = pd.DataFrame()"
   ]
  },
  {
   "cell_type": "code",
   "execution_count": 7,
   "metadata": {},
   "outputs": [],
   "source": [
    "for sheet in below_the_line.sheets:\n",
    "    sheet_df = below_the_line.sheet_to_df(sheet=sheet.title,index=None)\n",
    "\n",
    "    date_range = pd.date_range(start=f'{sheet.title}-01', freq='D', periods=pd.Timestamp(sheet.title).days_in_month)\n",
    "    \n",
    "    for date in date_range:\n",
    "\n",
    "        sheet_df[\"date\"] = date\n",
    "        sheets = pd.concat([sheets,sheet_df])\n",
    "        "
   ]
  },
  {
   "cell_type": "code",
   "execution_count": 8,
   "metadata": {},
   "outputs": [],
   "source": [
    "sheets[\"date\"] = pd.to_datetime(sheets[\"date\"])"
   ]
  },
  {
   "cell_type": "code",
   "execution_count": 9,
   "metadata": {},
   "outputs": [],
   "source": [
    "sheets.columns = [\"currency\",\"below_the_line_gbp\",\"balance_date\"]"
   ]
  },
  {
   "cell_type": "code",
   "execution_count": 10,
   "metadata": {},
   "outputs": [],
   "source": [
    "sheets[\"below_the_line_gbp\"] = sheets[\"below_the_line_gbp\"].str.replace(\",\",\"\").astype(float)\n",
    "sheets[\"balance_date\"] = sheets[\"balance_date\"].astype(\"str\")"
   ]
  },
  {
   "cell_type": "code",
   "execution_count": 11,
   "metadata": {},
   "outputs": [
    {
     "data": {
      "text/plain": [
       "currency               object\n",
       "below_the_line_gbp    float64\n",
       "balance_date           object\n",
       "dtype: object"
      ]
     },
     "execution_count": 11,
     "metadata": {},
     "output_type": "execute_result"
    }
   ],
   "source": [
    "sheets.dtypes"
   ]
  },
  {
   "cell_type": "code",
   "execution_count": 12,
   "metadata": {},
   "outputs": [
    {
     "data": {
      "text/html": [
       "<div>\n",
       "<style scoped>\n",
       "    .dataframe tbody tr th:only-of-type {\n",
       "        vertical-align: middle;\n",
       "    }\n",
       "\n",
       "    .dataframe tbody tr th {\n",
       "        vertical-align: top;\n",
       "    }\n",
       "\n",
       "    .dataframe thead th {\n",
       "        text-align: right;\n",
       "    }\n",
       "</style>\n",
       "<table border=\"1\" class=\"dataframe\">\n",
       "  <thead>\n",
       "    <tr style=\"text-align: right;\">\n",
       "      <th></th>\n",
       "      <th>currency</th>\n",
       "      <th>below_the_line_gbp</th>\n",
       "      <th>balance_date</th>\n",
       "    </tr>\n",
       "  </thead>\n",
       "  <tbody>\n",
       "    <tr>\n",
       "      <th>0</th>\n",
       "      <td>AED</td>\n",
       "      <td>-4028893.00</td>\n",
       "      <td>2024-03-08</td>\n",
       "    </tr>\n",
       "    <tr>\n",
       "      <th>3</th>\n",
       "      <td>AED</td>\n",
       "      <td>-3016538.35</td>\n",
       "      <td>2023-12-22</td>\n",
       "    </tr>\n",
       "    <tr>\n",
       "      <th>0</th>\n",
       "      <td>AED</td>\n",
       "      <td>-1220916.00</td>\n",
       "      <td>2024-05-14</td>\n",
       "    </tr>\n",
       "    <tr>\n",
       "      <th>3</th>\n",
       "      <td>AED</td>\n",
       "      <td>-3016538.35</td>\n",
       "      <td>2023-12-21</td>\n",
       "    </tr>\n",
       "    <tr>\n",
       "      <th>0</th>\n",
       "      <td>AED</td>\n",
       "      <td>-4028893.00</td>\n",
       "      <td>2024-03-22</td>\n",
       "    </tr>\n",
       "    <tr>\n",
       "      <th>...</th>\n",
       "      <td>...</td>\n",
       "      <td>...</td>\n",
       "      <td>...</td>\n",
       "    </tr>\n",
       "    <tr>\n",
       "      <th>49</th>\n",
       "      <td>ZMW</td>\n",
       "      <td>6981.33</td>\n",
       "      <td>2023-12-30</td>\n",
       "    </tr>\n",
       "    <tr>\n",
       "      <th>28</th>\n",
       "      <td>ZMW</td>\n",
       "      <td>63385.48</td>\n",
       "      <td>2024-01-20</td>\n",
       "    </tr>\n",
       "    <tr>\n",
       "      <th>105</th>\n",
       "      <td>ZMW</td>\n",
       "      <td>331354.00</td>\n",
       "      <td>2024-05-28</td>\n",
       "    </tr>\n",
       "    <tr>\n",
       "      <th>28</th>\n",
       "      <td>ZMW</td>\n",
       "      <td>63385.48</td>\n",
       "      <td>2024-01-25</td>\n",
       "    </tr>\n",
       "    <tr>\n",
       "      <th>105</th>\n",
       "      <td>ZMW</td>\n",
       "      <td>331354.00</td>\n",
       "      <td>2024-05-31</td>\n",
       "    </tr>\n",
       "  </tbody>\n",
       "</table>\n",
       "<p>19516 rows × 3 columns</p>\n",
       "</div>"
      ],
      "text/plain": [
       "    currency  below_the_line_gbp balance_date\n",
       "0        AED         -4028893.00   2024-03-08\n",
       "3        AED         -3016538.35   2023-12-22\n",
       "0        AED         -1220916.00   2024-05-14\n",
       "3        AED         -3016538.35   2023-12-21\n",
       "0        AED         -4028893.00   2024-03-22\n",
       "..       ...                 ...          ...\n",
       "49       ZMW             6981.33   2023-12-30\n",
       "28       ZMW            63385.48   2024-01-20\n",
       "105      ZMW           331354.00   2024-05-28\n",
       "28       ZMW            63385.48   2024-01-25\n",
       "105      ZMW           331354.00   2024-05-31\n",
       "\n",
       "[19516 rows x 3 columns]"
      ]
     },
     "execution_count": 12,
     "metadata": {},
     "output_type": "execute_result"
    }
   ],
   "source": [
    "sheets.sort_values(\"currency\")"
   ]
  },
  {
   "cell_type": "code",
   "execution_count": 13,
   "metadata": {},
   "outputs": [
    {
     "name": "stdout",
     "output_type": "stream",
     "text": [
      "Upload to BQ done! portfolio_metrics.below_the_line_monthly\n"
     ]
    }
   ],
   "source": [
    "upload.upload_table(\n",
    "    sheets,\n",
    "    \"below_the_line_monthly\",\n",
    "    bq_client,\n",
    "    config,\n",
    ")"
   ]
  },
  {
   "cell_type": "code",
   "execution_count": 14,
   "metadata": {},
   "outputs": [
    {
     "data": {
      "text/plain": [
       "19545"
      ]
     },
     "execution_count": 14,
     "metadata": {},
     "output_type": "execute_result"
    }
   ],
   "source": [
    "19545"
   ]
  }
 ],
 "metadata": {
  "kernelspec": {
   "display_name": "Python 3",
   "language": "python",
   "name": "python3"
  },
  "language_info": {
   "codemirror_mode": {
    "name": "ipython",
    "version": 3
   },
   "file_extension": ".py",
   "mimetype": "text/x-python",
   "name": "python",
   "nbconvert_exporter": "python",
   "pygments_lexer": "ipython3",
   "version": "3.7.9"
  }
 },
 "nbformat": 4,
 "nbformat_minor": 2
}
