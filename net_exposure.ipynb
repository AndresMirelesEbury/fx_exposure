{
 "cells": [
  {
   "cell_type": "code",
   "execution_count": 1,
   "metadata": {},
   "outputs": [],
   "source": [
    "import numpy as np"
   ]
  },
  {
   "cell_type": "code",
   "execution_count": 2,
   "metadata": {},
   "outputs": [],
   "source": [
    "def net_exposure(above,below,threshold):\n",
    "    if above == below == 0:\n",
    "        return 0,0,0,0\n",
    "\n",
    "    # The external change that we need\n",
    "    external_change = np.maximum(abs(above + below) - threshold,0)\n",
    "    external_change = 0\n",
    "    # The internal change that we need\n",
    "    internal_change = np.maximum(np.maximum(abs(above),abs(below)) - threshold,0)\n",
    "\n",
    "    # The resulting exposures\n",
    "    new_above = above + below/abs(below)*(internal_change - external_change)\n",
    "    new_below = below - below/abs(below)*internal_change\n",
    "\n",
    "    # Return the hedges\n",
    "    below_sell_buy_internal = np.where(below<0,\"Buy\",\"Sell\")\n",
    "    above_sell_buy_internal = np.where(below<0,\"Sell\",\"Buy\")\n",
    "    above_sell_buy_external = np.where(above<0,\"Buy\",\"Sell\")\n",
    "\n",
    "\n",
    "    if internal_change != 0:\n",
    "        print(f\"INTERNAL: Below: {below_sell_buy_internal} {internal_change}, Above: {above_sell_buy_internal} {internal_change}\")\n",
    "    if external_change != 0:\n",
    "        print(f\"EXTERNAL: Above: {above_sell_buy_external} {external_change}\")\n",
    "        \n",
    "\n",
    "    return new_above, new_below, internal_change, external_change\n"
   ]
  },
  {
   "cell_type": "code",
   "execution_count": 9,
   "metadata": {},
   "outputs": [
    {
     "name": "stdout",
     "output_type": "stream",
     "text": [
      "INTERNAL: Below: Sell 10, Above: Buy 10\n",
      "New above internal: -5.0, New below: -9.0, Internal Hedge Notional: 10, External Hedge Notional: 0\n"
     ]
    }
   ],
   "source": [
    "above = -15\n",
    "below = 1\n",
    "threshold = 5\n",
    "\n",
    "new_above, new_below, hedge_notional_internal, hedge_notional_external = net_exposure(above,below,threshold)\n",
    "\n",
    "print(f\"New above internal: {new_above}, New below: {new_below}, Internal Hedge Notional: {hedge_notional_internal}, External Hedge Notional: {hedge_notional_external}\")\n"
   ]
  },
  {
   "cell_type": "code",
   "execution_count": null,
   "metadata": {},
   "outputs": [],
   "source": []
  }
 ],
 "metadata": {
  "kernelspec": {
   "display_name": "Python 3",
   "language": "python",
   "name": "python3"
  },
  "language_info": {
   "codemirror_mode": {
    "name": "ipython",
    "version": 3
   },
   "file_extension": ".py",
   "mimetype": "text/x-python",
   "name": "python",
   "nbconvert_exporter": "python",
   "pygments_lexer": "ipython3",
   "version": "3.7.9"
  }
 },
 "nbformat": 4,
 "nbformat_minor": 2
}
